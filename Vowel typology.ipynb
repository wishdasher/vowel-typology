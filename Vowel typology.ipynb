{
 "cells": [
  {
   "cell_type": "code",
   "execution_count": null,
   "metadata": {},
   "outputs": [],
   "source": [
    "sounds = {}\n",
    "labels = {}\n",
    "labeled = False\n",
    "bad = set()\n",
    "badp = 0\n",
    "glyph_freq = {}\n",
    "glyph_phone = {}\n",
    "with open('phoible/data/upsid-vowels-pruned.csv', 'r') as f:\n",
    "    for line in f.readlines():\n",
    "        if not labeled:\n",
    "            for i, item in enumerate(line.split(\"\\t\")):\n",
    "                labels[i] = item.strip()\n",
    "            labeled = True\n",
    "        else:\n",
    "            items = [i.strip() for i in line.split(\"\\t\")]\n",
    "            language = items[0]\n",
    "            if language not in sounds:\n",
    "                sounds[language] = []\n",
    "            append = True\n",
    "            phone = {}\n",
    "            for i, data in enumerate(items):\n",
    "                if i < 4:\n",
    "                    continue\n",
    "                else:\n",
    "                    if data == '0':\n",
    "                        phone[labels[i]] = '-'\n",
    "                    else:\n",
    "                        phone[labels[i]] = data\n",
    "                if data == '+,-' or data == '-,+':\n",
    "                    append = False\n",
    "                    bad.add(language)\n",
    "            if append:\n",
    "                sounds[language].append(phone)\n",
    "                glyph = items[3]\n",
    "                if glyph in glyph_freq:\n",
    "                    glyph_freq[glyph] += 1\n",
    "                    assert glyph_phone[glyph] == phone\n",
    "                else:\n",
    "                    glyph_freq[glyph] = 1\n",
    "                    glyph_phone[glyph] = phone\n",
    "            else:\n",
    "                badp += 1\n",
    "#                 sounds[labels[i]] = item\n",
    "langs = sounds"
   ]
  },
  {
   "cell_type": "code",
   "execution_count": null,
   "metadata": {},
   "outputs": [],
   "source": [
    "print(len(langs))\n",
    "# print(bad)\n",
    "print(len(bad))\n",
    "print(badp)\n",
    "print(sum([len(langs[x]) for x in bad]))\n",
    "print(686)"
   ]
  },
  {
   "cell_type": "code",
   "execution_count": null,
   "metadata": {},
   "outputs": [],
   "source": [
    "# len(glyph_freq.keys())\n",
    "# len(glyph_phone.keys())\n",
    "sorted_freq = sorted(glyph_freq.items(), reverse=True, key=lambda x: x[1])"
   ]
  },
  {
   "cell_type": "code",
   "execution_count": null,
   "metadata": {},
   "outputs": [],
   "source": [
    "sorted_freq[:10]"
   ]
  },
  {
   "cell_type": "code",
   "execution_count": null,
   "metadata": {},
   "outputs": [],
   "source": [
    "bi_features = ['anterior', 'labiodental', 'tone', 'labial', 'tap', 'raisedLarynxEjective', 'loweredLarynxImplosive', 'click', 'spreadGlottis', 'trill', 'lateral', 'distributed', 'fortis', 'syllabic', 'advancedTongueRoot', 'delayedRelease', 'constrictedGlottis', 'continuant', 'nasal', 'sonorant', 'coronal', 'strident', 'dorsal', 'periodicGlottalSource', 'stress', 'short', 'approximant', 'consonantal', 'epilaryngealSource', 'retractedTongueRoot']\n",
    "main_features = ['back', 'high', 'low', 'front', 'long', 'round']\n",
    "import random\n",
    "def get_random_features():\n",
    "    random.shuffle(bi_features)\n",
    "    random.shuffle(main_features)\n",
    "    features = ['tense'] + bi_features[:] + main_features[:]\n",
    "    return features"
   ]
  },
  {
   "cell_type": "code",
   "execution_count": null,
   "metadata": {},
   "outputs": [],
   "source": [
    "features = get_random_features()\n",
    "print(features)\n",
    "print(len(features))"
   ]
  },
  {
   "cell_type": "code",
   "execution_count": null,
   "metadata": {},
   "outputs": [],
   "source": [
    "def test_comp(vowels, feature):\n",
    "    for a in vowels:\n",
    "        for b in vowels:\n",
    "            if a == b:\n",
    "                continue\n",
    "            copy_a = a.copy()\n",
    "            copy_b = b.copy()\n",
    "            del copy_a[feature]\n",
    "            del copy_b[feature]\n",
    "            if copy_a == copy_b:\n",
    "#                 for v in vowels:\n",
    "#                     del v[feature]\n",
    "                return True\n",
    "    for v in vowels:\n",
    "        del v[feature]\n",
    "    return False\n",
    "\n",
    "def prune(vowels):\n",
    "    vowels_copy = [d.copy() for d in vowels]\n",
    "    keep = [f for f in get_random_features() if test_comp(vowels_copy, f) ]\n",
    "    return keep"
   ]
  },
  {
   "cell_type": "code",
   "execution_count": null,
   "metadata": {},
   "outputs": [],
   "source": [
    "langs_min_features = {}\n",
    "import math\n",
    "def get_best_prune(lang_sounds):\n",
    "    limit = 10\n",
    "    counter = 0\n",
    "    \n",
    "    theo_min = int(math.ceil(math.log(len(lang_sounds), 2)))\n",
    "    \n",
    "    best = prune(lang_sounds)\n",
    "    while counter < limit:\n",
    "        pruned = prune(lang_sounds)\n",
    "        if len(pruned) < theo_min:\n",
    "            print(lang)\n",
    "            print(len(lang_sounds))\n",
    "            print(pruned)\n",
    "            raise\n",
    "        elif len(pruned) == theo_min:\n",
    "            best = pruned\n",
    "            break\n",
    "        elif len(best) > len(pruned):\n",
    "            best = pruned\n",
    "        counter += 1\n",
    "    return best\n",
    "    \n",
    "for lang in langs.keys():\n",
    "    langs_min_features[lang] = get_best_prune(langs[lang])\n"
   ]
  },
  {
   "cell_type": "code",
   "execution_count": null,
   "metadata": {},
   "outputs": [],
   "source": [
    "langs_pruned = {}\n",
    "for lang in langs:\n",
    "    langs_pruned[lang] = []\n",
    "    features = langs_min_features[lang]\n",
    "    for item in langs[lang]:\n",
    "        new_features = {key: item[key] for key in features}\n",
    "        assert len(new_features) == len(features)\n",
    "        langs_pruned[lang].append(new_features)"
   ]
  },
  {
   "cell_type": "code",
   "execution_count": null,
   "metadata": {},
   "outputs": [],
   "source": [
    "sound_bank = []\n",
    "for sound in glyph_freq:\n",
    "    sound_bank.extend(glyph_freq[sound] * [sound])"
   ]
  },
  {
   "cell_type": "code",
   "execution_count": null,
   "metadata": {},
   "outputs": [],
   "source": [
    "# import json # for debugging\n",
    "samples = {}\n",
    "min_count = 3 #3\n",
    "max_count = 16 #20\n",
    "num_each = 500 #100\n",
    "for size in range(min_count, max_count + 1):\n",
    "    print('currently on %s', size)\n",
    "    samples[size] = []\n",
    "    for i in range(num_each):\n",
    "        sample = []\n",
    "        while len(sample) < size:\n",
    "            sound = random.choice(sound_bank)\n",
    "            if glyph_phone[sound] not in sample:\n",
    "                sample.append(glyph_phone[sound])\n",
    "#         used for debugging\n",
    "#         set_check = set([(json.dumps(thingy, sort_keys=True)) for thingy in sample])\n",
    "#         if len(set_check) != size:\n",
    "#             print size\n",
    "#             print len(set_check)\n",
    "#             print sample\n",
    "#             raise\n",
    "        # now we have a sample\n",
    "        min_features = get_best_prune(sample)\n",
    "        new_sounds = []\n",
    "        for item in sample:\n",
    "            new_features = {key: item[key] for key in min_features}\n",
    "            assert len(new_features) == len(min_features)\n",
    "            new_sounds.append(new_features)\n",
    "        samples[size].append(new_sounds)"
   ]
  },
  {
   "cell_type": "code",
   "execution_count": null,
   "metadata": {},
   "outputs": [],
   "source": [
    "uni_glyphs = glyph_freq.keys()\n",
    "# import json # for debugging\n",
    "uniform_samples = {}\n",
    "min_count = 3 #3\n",
    "max_count = 16 #16\n",
    "num_each = 100 #100\n",
    "for size in range(min_count, max_count + 1):\n",
    "    print('currently on %s', size)\n",
    "    uniform_samples[size] = []\n",
    "    for i in range(num_each):\n",
    "        sample = []\n",
    "        while len(sample) < size:\n",
    "            sound = random.choice(uni_glyphs)\n",
    "            if glyph_phone[sound] not in sample:\n",
    "                sample.append(glyph_phone[sound])\n",
    "        min_features = get_best_prune(sample)\n",
    "        new_sounds = []\n",
    "        for item in sample:\n",
    "            new_features = {key: item[key] for key in min_features}\n",
    "            assert len(new_features) == len(min_features)\n",
    "            new_sounds.append(new_features)\n",
    "        uniform_samples[size].append(new_sounds)"
   ]
  },
  {
   "cell_type": "code",
   "execution_count": null,
   "metadata": {},
   "outputs": [],
   "source": [
    "from numpy import percentile"
   ]
  },
  {
   "cell_type": "code",
   "execution_count": null,
   "metadata": {},
   "outputs": [],
   "source": [
    "econs = {}\n",
    "def get_econ(sounds):\n",
    "    num_sounds = len(sounds)\n",
    "    total_combo = 2 ** len(sounds[0])\n",
    "    first = sounds[0]\n",
    "    if 'high' in first and 'low' in first:\n",
    "        total_combo *= 3.0/4\n",
    "    if 'front' in first and 'back' in first:\n",
    "        total_combo *= 3.0/4\n",
    "    return 1.0 * num_sounds / total_combo\n",
    "for lang in langs_pruned:\n",
    "    econs[lang] = get_econ(langs_pruned[lang])"
   ]
  },
  {
   "cell_type": "code",
   "execution_count": null,
   "metadata": {},
   "outputs": [],
   "source": [
    "econ_by_value = {}\n",
    "for l in langs_pruned:\n",
    "    sounds = langs_pruned[l]\n",
    "    number = len(sounds)\n",
    "    if number not in econ_by_value:\n",
    "        econ_by_value[number] = []\n",
    "    econ = get_econ(sounds)\n",
    "    econ_by_value[number].append(econ)\n",
    "\n",
    "econ_samples = {}\n",
    "for size in range(min_count, max_count + 1):\n",
    "    econ_samples[size] = []\n",
    "    for inv in samples[size]:\n",
    "        econ = get_econ(inv)\n",
    "        econ_samples[size].append(econ)\n",
    "\n",
    "econ_samples_uniform = {}\n",
    "for size in range(min_count, max_count + 1):\n",
    "    econ_samples_uniform[size] = []\n",
    "    for inv in uniform_samples[size]:\n",
    "        econ = get_econ(inv)\n",
    "        econ_samples_uniform[size].append(econ)"
   ]
  },
  {
   "cell_type": "code",
   "execution_count": null,
   "metadata": {},
   "outputs": [],
   "source": [
    "inventories = [econ_by_value, econ_samples, econ_samples_uniform]\n",
    "for inv in inventories:\n",
    "    print(\"Next\")\n",
    "    for size in range(min_count, max_count + 1):\n",
    "        \n",
    "        data = inv[size]\n",
    "        q = percentile(data, [0, 25, 50, 75, 100])\n",
    "        all_q = list([str(float(thing)) for thing in q])\n",
    "#         print(\"\\t\".join(all_q))\n",
    "        print 1.0 * sum(data) / len(data)\n"
   ]
  },
  {
   "cell_type": "code",
   "execution_count": null,
   "metadata": {},
   "outputs": [],
   "source": [
    "def mean(data):\n",
    "    if len(data):\n",
    "        return 1.0 * sum(data) / len(data)\n",
    "    else:\n",
    "        return \"N/A\""
   ]
  },
  {
   "cell_type": "code",
   "execution_count": null,
   "metadata": {},
   "outputs": [],
   "source": [
    "econ_by_value_yes = {}\n",
    "econ_by_value_no = {}\n",
    "for l in langs_pruned:\n",
    "    sounds = langs_pruned[l]\n",
    "    number = len(sounds)\n",
    "    if number not in econ_by_value_yes:\n",
    "        econ_by_value_yes[number] = []\n",
    "    if number not in econ_by_value_no:\n",
    "        econ_by_value_no[number] = []\n",
    "    econ = get_econ(sounds)\n",
    "    if 'long' in sounds[0]:\n",
    "        econ_by_value_yes[number].append(econ)\n",
    "    else:\n",
    "        econ_by_value_no[number].append(econ)\n"
   ]
  },
  {
   "cell_type": "code",
   "execution_count": null,
   "metadata": {},
   "outputs": [],
   "source": []
  },
  {
   "cell_type": "code",
   "execution_count": null,
   "metadata": {},
   "outputs": [],
   "source": [
    "import scipy.stats"
   ]
  },
  {
   "cell_type": "code",
   "execution_count": null,
   "metadata": {},
   "outputs": [],
   "source": [
    "sizerange = range(min_count, max_count + 1)"
   ]
  },
  {
   "cell_type": "code",
   "execution_count": null,
   "metadata": {},
   "outputs": [],
   "source": [
    "for i in sizerange:\n",
    "    print scipy.stats.ttest_ind(econ_by_value[i], econ_samples[i]).pvalue"
   ]
  },
  {
   "cell_type": "code",
   "execution_count": null,
   "metadata": {},
   "outputs": [],
   "source": [
    "def differ_by_one(v1, v2):\n",
    "    counter = 0\n",
    "    for key in v1:\n",
    "        if key not in v2:\n",
    "            print \"keyerror\"\n",
    "            raise\n",
    "        value1 = v1[key]\n",
    "        value2 = v2[key]\n",
    "        if value1 != value2:\n",
    "            counter += 1\n",
    "    if counter == 1:\n",
    "        return True\n",
    "    else:\n",
    "        return False\n",
    "\n",
    "def get_sym(sounds):\n",
    "    num = len(sounds)\n",
    "    counter = 0\n",
    "    for i in range(num):\n",
    "        for j in range(i + 1, num):\n",
    "            if differ_by_one(sounds[i], sounds[j]):\n",
    "                counter += 1\n",
    "    return counter"
   ]
  },
  {
   "cell_type": "code",
   "execution_count": null,
   "metadata": {},
   "outputs": [],
   "source": [
    "trial = langs_pruned['kir']\n",
    "print trial\n",
    "print get_sym(trial)"
   ]
  },
  {
   "cell_type": "code",
   "execution_count": null,
   "metadata": {},
   "outputs": [],
   "source": [
    "sym_by_value = {}\n",
    "for l in langs_pruned:\n",
    "    sounds = langs_pruned[l]\n",
    "    number = len(sounds)\n",
    "    if number not in sym_by_value:\n",
    "        sym_by_value[number] = []\n",
    "    econ = get_sym(sounds)\n",
    "    sym_by_value[number].append(econ)\n",
    "\n",
    "sym_samples = {}\n",
    "for size in range(min_count, max_count + 1):\n",
    "    sym_samples[size] = []\n",
    "    for inv in samples[size][:500]:\n",
    "        econ = get_sym(inv)\n",
    "        sym_samples[size].append(econ)"
   ]
  },
  {
   "cell_type": "code",
   "execution_count": null,
   "metadata": {},
   "outputs": [],
   "source": [
    "sym_inv = [sym_by_value, sym_samples]\n",
    "for inv in sym_inv:\n",
    "    print(\"Next\")\n",
    "    for size in range(min_count, max_count + 1):\n",
    "        data = inv[size]\n",
    "        q = percentile(data, [0, 25, 50, 75, 100])\n",
    "        all_q = list([str(float(thing)) for thing in q])\n",
    "        print(\"\\t\".join(all_q))\n",
    "#         print 1.0 * sum(data) / len(data)\n"
   ]
  },
  {
   "cell_type": "code",
   "execution_count": null,
   "metadata": {},
   "outputs": [],
   "source": [
    "for i in sizerange:\n",
    "    print scipy.stats.ttest_ind(sym_by_value[i], sym_samples[i]).pvalue"
   ]
  },
  {
   "cell_type": "code",
   "execution_count": null,
   "metadata": {},
   "outputs": [],
   "source": [
    "sym_by_value_yes = {}\n",
    "sym_by_value_no = {}\n",
    "for l in langs_pruned:\n",
    "    sounds = langs_pruned[l]\n",
    "    number = len(sounds)\n",
    "    if number not in sym_by_value_yes:\n",
    "        sym_by_value_yes[number] = []\n",
    "    if number not in sym_by_value_no:\n",
    "        sym_by_value_no[number] = []\n",
    "    econ = get_econ(sounds)\n",
    "    if 'round' in sounds[0]:\n",
    "        sym_by_value_yes[number].append(econ)\n",
    "    else:\n",
    "        sym_by_value_no[number].append(econ)\n",
    "for i in sizerange:\n",
    "    print scipy.stats.ttest_ind(sym_by_value_yes[i], sym_by_value_no[i])"
   ]
  },
  {
   "cell_type": "code",
   "execution_count": null,
   "metadata": {},
   "outputs": [],
   "source": []
  }
 ],
 "metadata": {
  "kernelspec": {
   "display_name": "Python 2",
   "language": "python",
   "name": "python2"
  },
  "language_info": {
   "codemirror_mode": {
    "name": "ipython",
    "version": 2
   },
   "file_extension": ".py",
   "mimetype": "text/x-python",
   "name": "python",
   "nbconvert_exporter": "python",
   "pygments_lexer": "ipython2",
   "version": "2.7.15rc1"
  }
 },
 "nbformat": 4,
 "nbformat_minor": 2
}
